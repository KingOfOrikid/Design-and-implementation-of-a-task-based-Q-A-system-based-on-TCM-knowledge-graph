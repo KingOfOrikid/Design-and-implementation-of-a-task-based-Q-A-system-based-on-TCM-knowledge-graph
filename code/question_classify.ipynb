{
 "cells": [
  {
   "cell_type": "code",
   "execution_count": 10,
   "id": "51ceb54a",
   "metadata": {},
   "outputs": [],
   "source": [
    "import numpy as np\n",
    "import pandas as pd\n",
    "import jieba\n",
    "import json\n",
    "from joblib import dump, load\n",
    "import warnings\n",
    "warnings.filterwarnings(\"ignore\")"
   ]
  },
  {
   "cell_type": "code",
   "execution_count": 11,
   "id": "4dbba009",
   "metadata": {},
   "outputs": [],
   "source": [
    "def classify_question(test_word,model_path,tf_path):\n",
    "    #model_path='output/NBmodel.joblib'\n",
    "    #tf_path='output/tf-idf.joblib'\n",
    "    test_temp=jieba.cut(test_word)\n",
    "    tt=''\n",
    "    for word in test_temp:\n",
    "        tt+=word+' '\n",
    "    tf=load(tf_path)\n",
    "    test_features = tf.transform([tt])\n",
    "    model=load(model_path)\n",
    "    label=model.predict(test_features)[0]\n",
    "    #['L1类_回答方法.txt','L2类_回答症状.txt','L3类_回答释名.txt','L4类_回答气味.txt','L5类_回答子部.txt','L6类_回答部门.txt']\n",
    "    if label==1:\n",
    "        return('L1')\n",
    "    elif label==2:\n",
    "        return('L2')\n",
    "    elif label==3:\n",
    "        return('L3')\n",
    "    elif label==4:\n",
    "        return('L4')\n",
    "    elif label==5:\n",
    "        return('L5')\n",
    "    elif label==6:\n",
    "        return('L6')\n",
    "    else:\n",
    "        return(-1)"
   ]
  },
  {
   "cell_type": "code",
   "execution_count": 9,
   "id": "3009aed0",
   "metadata": {},
   "outputs": [
    {
     "data": {
      "text/plain": [
       "'L5'"
      ]
     },
     "execution_count": 9,
     "metadata": {},
     "output_type": "execute_result"
    }
   ],
   "source": [
    "classify_question('下面还有没有其他子部了','model/NBmodel.joblib','model/tf-idf.joblib')"
   ]
  },
  {
   "cell_type": "code",
   "execution_count": null,
   "id": "78bc1ebc",
   "metadata": {},
   "outputs": [],
   "source": []
  }
 ],
 "metadata": {
  "kernelspec": {
   "display_name": "Python 3",
   "language": "python",
   "name": "python3"
  },
  "language_info": {
   "codemirror_mode": {
    "name": "ipython",
    "version": 3
   },
   "file_extension": ".py",
   "mimetype": "text/x-python",
   "name": "python",
   "nbconvert_exporter": "python",
   "pygments_lexer": "ipython3",
   "version": "3.8.10"
  }
 },
 "nbformat": 4,
 "nbformat_minor": 5
}
