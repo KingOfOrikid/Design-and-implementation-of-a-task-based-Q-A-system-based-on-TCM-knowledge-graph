{
 "cells": [
  {
   "cell_type": "code",
   "execution_count": 1,
   "id": "5c86a2b6",
   "metadata": {},
   "outputs": [],
   "source": [
    "import tensorflow as tf\n",
    "import tensorflow_addons as tfa\n",
    "\n",
    "from tensorflow import keras\n",
    "from tensorflow.keras import layers, models\n",
    "from tensorflow.keras import backend as K\n",
    "\n",
    "from tensorflow.keras.preprocessing import sequence\n",
    "import numpy as np\n",
    "import json\n",
    "\n",
    "\n",
    "import pandas as pd\n",
    "import jieba\n",
    "from joblib import dump, load\n",
    "import warnings\n",
    "warnings.filterwarnings(\"ignore\")\n",
    "import time"
   ]
  },
  {
   "cell_type": "markdown",
   "id": "a2f2b9bb",
   "metadata": {},
   "source": [
    "# 命名实体识别"
   ]
  },
  {
   "cell_type": "code",
   "execution_count": 11,
   "id": "6bae9417",
   "metadata": {},
   "outputs": [],
   "source": [
    "class question_ner:\n",
    "    # 参数\n",
    "    def __init__(self):\n",
    "        # 导入处理好的标签数据集\n",
    "        with open('data/idx2vocab.json',encoding=\"utf-8\") as file_obj:\n",
    "            self.idx2vocab=json.load(file_obj) \n",
    "        with open('data/vocab2idx.json',encoding=\"utf-8\") as file_obj:\n",
    "            self.vocab2idx=json.load(file_obj)\n",
    "        with open('data/idx2label.json',encoding=\"utf-8\") as file_obj:\n",
    "            self.idx2label=json.load(file_obj)\n",
    "        with open('data/label2idx.json',encoding=\"utf-8\") as file_obj:\n",
    "            self.label2idx=json.load(file_obj)\n",
    "\n",
    "        # 导入训练好的模型\n",
    "        self.model = models.load_model(\"model/output/bilstm_crf_ner\", compile=False)\n",
    "\n",
    "        #提取转移矩阵参数\n",
    "        self.trans_params = self.model.get_layer('crf').get_weights()[0]\n",
    "        # 获得BiLSTM的输出logits\n",
    "        self.sub_model = models.Model(inputs=self.model.get_layer('input_ids').input,\n",
    "                        outputs=self.model.get_layer('dense').output)\n",
    "\n",
    "    def predict(self,inputs, input_lens):\n",
    "        logits = self.sub_model.predict(inputs)\n",
    "        # 获取CRF层的转移矩阵\n",
    "        # crf_decode：viterbi解码获得结果\n",
    "        pred_seq, viterbi_score = tfa.text.crf_decode(logits, self.trans_params, input_lens)\n",
    "        return pred_seq\n",
    "\n",
    "    def pre_data(self,sentence):\n",
    "        maxlen=100\n",
    "        sent_chars = list(sentence)\n",
    "        sent2id = [self.vocab2idx[word] if word in self.vocab2idx else self.vocab2idx['UNK'] for word in sent_chars]\n",
    "        sent2id_new = np.array([[0] * (maxlen-len(sent2id)) + sent2id[:maxlen]])\n",
    "        test_lens = np.array([100])\n",
    "\n",
    "        pred_seq = self.predict(sent2id_new, test_lens)\n",
    "        y_label = pred_seq.numpy().reshape(1, -1)[0]\n",
    "        y_ner = [self.idx2label[str(i)] for i in y_label][-len(sent_chars):]\n",
    "        return y_ner"
   ]
  },
  {
   "cell_type": "markdown",
   "id": "925cbc2b",
   "metadata": {},
   "source": [
    "# 贝叶斯分类"
   ]
  },
  {
   "cell_type": "code",
   "execution_count": 24,
   "id": "19046695",
   "metadata": {},
   "outputs": [],
   "source": [
    "class question_classify():\n",
    "    #参数\n",
    "    def __init__(self):\n",
    "        self.model=load('model/NBmodel.joblib')\n",
    "        self.tf=load('model/tf-idf.joblib')\n",
    "        \n",
    "        \n",
    "        \n",
    "    def classify_question(self,test_word):\n",
    "        test_temp=jieba.cut(test_word)\n",
    "        tt=''\n",
    "        for word in test_temp:\n",
    "            tt+=word+' '\n",
    "        test_features = self.tf.transform([tt])\n",
    "        label=self.model.predict(test_features)[0]\n",
    "        #['L1类_回答方法.txt','L2类_回答症状.txt','L3类_回答释名.txt','L4类_回答气味.txt','L5类_回答子部.txt','L6类_回答部门.txt']\n",
    "        if label==1:\n",
    "            return('L1')\n",
    "        elif label==2:\n",
    "            return('L2')\n",
    "        elif label==3:\n",
    "            return('L3')\n",
    "        elif label==4:\n",
    "            return('L4')\n",
    "        elif label==5:\n",
    "            return('L5')\n",
    "        elif label==6:\n",
    "            return('L6')\n",
    "        else:\n",
    "            return(-1)"
   ]
  },
  {
   "cell_type": "markdown",
   "id": "678ace8c",
   "metadata": {},
   "source": [
    "# 融合部分"
   ]
  },
  {
   "cell_type": "code",
   "execution_count": 25,
   "id": "ef0574ae",
   "metadata": {},
   "outputs": [],
   "source": [
    "def get_valid_nertag(input_data, result_tags):\n",
    "    entity=[]\n",
    "    pos=[]\n",
    "    ques=list(input_data)\n",
    "    flag=0\n",
    "    text=''\n",
    "    label=''\n",
    "    index=0\n",
    "    for i in range(0,len(result_tags)):\n",
    "        if 'che' in result_tags[i]:\n",
    "            continue\n",
    "        else:\n",
    "            if 'B' in result_tags[i] and flag==0:\n",
    "                flag=1\n",
    "                label=result_tags[i][-3:]\n",
    "                index=i\n",
    "            elif 'B' in result_tags[i] and flag==1:\n",
    "                entity.append([input_data[index:i],label])\n",
    "                pos.append([index,i])\n",
    "                index=i\n",
    "                flag=1\n",
    "                label=result_tags[i][-3:]\n",
    "            elif 'E' in result_tags[i] and flag==1:\n",
    "                entity.append([input_data[index:i+1],label])\n",
    "                pos.append([index,i+1])\n",
    "                index=0\n",
    "                flag=0\n",
    "                label=''\n",
    "                now=i\n",
    "            elif 'S' in result_tags[i]:\n",
    "                entity.append([input_data[i],'dru'])\n",
    "                pos.append([i])\n",
    "                now=i\n",
    "    for item in pos:\n",
    "        if len(item)==2:\n",
    "            ques[item[0]:item[1]]=['*']*(item[1]-item[0])\n",
    "        else:\n",
    "            ques[item[0]]='*'\n",
    "            \n",
    "    ques=''.join(ques)\n",
    "    ques=ques.replace('*','')\n",
    "    return(ques,entity)"
   ]
  },
  {
   "cell_type": "code",
   "execution_count": 26,
   "id": "2bf87843",
   "metadata": {},
   "outputs": [],
   "source": [
    "def question_init():\n",
    "    ner=question_ner()\n",
    "    classify=question_classify()\n",
    "    return(ner,classify)"
   ]
  },
  {
   "cell_type": "code",
   "execution_count": 67,
   "id": "ded8abc0",
   "metadata": {},
   "outputs": [],
   "source": [
    "def question_(question,ner,classify):\n",
    "    question=question.strip()\n",
    "    #去除非法字符\n",
    "    text=''\n",
    "    for n in range(0, len(question)-1):\n",
    "        if '\\u4e00' <= question[n] <= '\\u9fff' or question[n] in '：，,:0123456789.%':\n",
    "            text += question[n]\n",
    "            \n",
    "    result = ner.pre_data(text)\n",
    "    ques,entity=get_valid_nertag(text, result)\n",
    "    \n",
    "    #检查实体数量是否合法\n",
    "    if entity==[]:\n",
    "        return -1\n",
    "    all_entity=[]\n",
    "    for i in entity:\n",
    "        all_entity.append(i[1])\n",
    "    if len(set(all_entity))>1:\n",
    "        return -1\n",
    "    \n",
    "    if ques=='':\n",
    "        return -1\n",
    "    #问句分类\n",
    "    ques=ques.strip()\n",
    "    if ques[0]=='，' or ques[0]=='。':\n",
    "        ques=ques[1:]\n",
    "    if ques[-1]=='，' or ques[-1]=='。':\n",
    "        ques=ques[:-1]\n",
    "    label=classify.classify_question(ques)\n",
    "    \n",
    "    #检查实体和问题是否对应\n",
    "    all_entity=list(set(all_entity))\n",
    "    if all_entity[0]=='sym' or all_entity[0]=='dis':\n",
    "        if label!='L1':\n",
    "            return -1\n",
    "    elif all_entity[0]=='dru':\n",
    "        if label!='L2' and label!='L3' and label!='L4' and label!='L5':\n",
    "            return -1\n",
    "    elif all_entity[0]=='dep':\n",
    "        if label!='L6':\n",
    "            return -1\n",
    "        \n",
    "    #返回\n",
    "    return_dic={}\n",
    "    return_dic['实体']=[]\n",
    "    return_dic['实体类型']=all_entity[0]\n",
    "    return_dic['问句类型']=label\n",
    "    for i in entity:\n",
    "        return_dic['实体'].append(i[0])\n",
    "    \n",
    "    return return_dic"
   ]
  },
  {
   "cell_type": "code",
   "execution_count": 51,
   "id": "90c1fde9",
   "metadata": {},
   "outputs": [],
   "source": [
    "if __name__==\"__main__\":\n",
    "    ner,classify=question_init()\n",
    "    dic=question_('紫檀对治什么病比较有用',ner,classify)"
   ]
  },
  {
   "cell_type": "markdown",
   "id": "d98f6730",
   "metadata": {},
   "source": [
    "# 生成测试问题的答案"
   ]
  },
  {
   "cell_type": "code",
   "execution_count": 80,
   "id": "af0d4469",
   "metadata": {},
   "outputs": [],
   "source": [
    "ques=[]\n",
    "for line in open('data/test_question.txt',encoding='UTF-8'):\n",
    "    line=line.rstrip().split('\\t')\n",
    "    line=line[0].strip().split()\n",
    "    ques.extend(line)"
   ]
  },
  {
   "cell_type": "code",
   "execution_count": 81,
   "id": "2f4df85b",
   "metadata": {},
   "outputs": [],
   "source": [
    "result=[]\n",
    "for q in ques:\n",
    "    result.append(question_(q,ner,classify))"
   ]
  },
  {
   "cell_type": "code",
   "execution_count": 84,
   "id": "b220c881",
   "metadata": {},
   "outputs": [],
   "source": [
    "filename='data/test_result.json'\n",
    "with open(filename,'w',encoding='utf-8') as file_obj:\n",
    "    json.dump((result),file_obj,ensure_ascii=False,indent = 4)"
   ]
  },
  {
   "cell_type": "code",
   "execution_count": null,
   "id": "51fb3dd2",
   "metadata": {},
   "outputs": [],
   "source": []
  }
 ],
 "metadata": {
  "kernelspec": {
   "display_name": "Python 3",
   "language": "python",
   "name": "python3"
  },
  "language_info": {
   "codemirror_mode": {
    "name": "ipython",
    "version": 3
   },
   "file_extension": ".py",
   "mimetype": "text/x-python",
   "name": "python",
   "nbconvert_exporter": "python",
   "pygments_lexer": "ipython3",
   "version": "3.8.10"
  }
 },
 "nbformat": 4,
 "nbformat_minor": 5
}
