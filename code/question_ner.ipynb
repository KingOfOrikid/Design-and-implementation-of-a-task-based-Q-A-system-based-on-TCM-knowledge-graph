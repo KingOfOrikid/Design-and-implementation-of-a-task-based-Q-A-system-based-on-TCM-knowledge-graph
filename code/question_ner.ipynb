{
 "cells": [
  {
   "cell_type": "code",
   "execution_count": 64,
   "id": "fa894f8a",
   "metadata": {},
   "outputs": [],
   "source": [
    "import tensorflow as tf\n",
    "import tensorflow_addons as tfa\n",
    "\n",
    "from tensorflow import keras\n",
    "from tensorflow.keras import layers, models\n",
    "from tensorflow.keras import backend as K\n",
    "\n",
    "from tensorflow.keras.preprocessing import sequence\n",
    "import numpy as np"
   ]
  },
  {
   "cell_type": "code",
   "execution_count": 65,
   "id": "3912e491",
   "metadata": {},
   "outputs": [],
   "source": [
    "import json"
   ]
  },
  {
   "cell_type": "code",
   "execution_count": 66,
   "id": "34353789",
   "metadata": {},
   "outputs": [],
   "source": [
    "with open('data/idx2vocab.json',encoding=\"utf-8\") as file_obj:\n",
    "    idx2vocab=json.load(file_obj)\n",
    "    \n",
    "with open('data/vocab2idx.json',encoding=\"utf-8\") as file_obj:\n",
    "    vocab2idx=json.load(file_obj)\n",
    "    \n",
    "with open('data/idx2label.json',encoding=\"utf-8\") as file_obj:\n",
    "    idx2label=json.load(file_obj)\n",
    "    \n",
    "with open('data/label2idx.json',encoding=\"utf-8\") as file_obj:\n",
    "    label2idx=json.load(file_obj)"
   ]
  },
  {
   "cell_type": "code",
   "execution_count": 67,
   "id": "89ff7d01",
   "metadata": {},
   "outputs": [],
   "source": [
    "model = models.load_model(\"model/output/bilstm_crf_ner\", compile=False)"
   ]
  },
  {
   "cell_type": "code",
   "execution_count": 68,
   "id": "fce438d9",
   "metadata": {},
   "outputs": [],
   "source": [
    "#提取转移矩阵参数\n",
    "trans_params = model.get_layer('crf').get_weights()[0]\n",
    "# 获得BiLSTM的输出logits\n",
    "sub_model = models.Model(inputs=model.get_layer('input_ids').input,\n",
    "                        outputs=model.get_layer('dense').output)\n",
    "\n",
    "def predict(model, inputs, input_lens):\n",
    "    logits = sub_model.predict(inputs)\n",
    "    # 获取CRF层的转移矩阵\n",
    "    # crf_decode：viterbi解码获得结果\n",
    "    pred_seq, viterbi_score = tfa.text.crf_decode(logits, trans_params, input_lens)\n",
    "    return pred_seq"
   ]
  },
  {
   "cell_type": "code",
   "execution_count": 69,
   "id": "9b13e0df",
   "metadata": {},
   "outputs": [],
   "source": [
    "def pre_data(sentence,vocab2idx,idx2label):\n",
    "    maxlen=100\n",
    "    sent_chars = list(sentence)\n",
    "    sent2id = [vocab2idx[word] if word in vocab2idx else vocab2idx['UNK'] for word in sent_chars]\n",
    "    sent2id_new = np.array([[0] * (maxlen-len(sent2id)) + sent2id[:maxlen]])\n",
    "    test_lens = np.array([100])\n",
    "\n",
    "    pred_seq = predict(model, sent2id_new, test_lens)\n",
    "    y_label = pred_seq.numpy().reshape(1, -1)[0]\n",
    "    y_ner = [idx2label[str(i)] for i in y_label][-len(sent_chars):]\n",
    "    return y_ner"
   ]
  },
  {
   "cell_type": "code",
   "execution_count": 71,
   "id": "0ec7a1b7",
   "metadata": {},
   "outputs": [
    {
     "data": {
      "text/plain": [
       "['B-dis', 'I-dis', 'I-dis', 'E-dis', 'O', 'O', 'O', 'O', 'O']"
      ]
     },
     "execution_count": 71,
     "metadata": {},
     "output_type": "execute_result"
    }
   ],
   "source": [
    "pre_data('月经不调吃哪些药物',vocab2idx,idx2label)"
   ]
  },
  {
   "cell_type": "code",
   "execution_count": null,
   "id": "2396bc7c",
   "metadata": {},
   "outputs": [],
   "source": []
  }
 ],
 "metadata": {
  "kernelspec": {
   "display_name": "Python 3",
   "language": "python",
   "name": "python3"
  },
  "language_info": {
   "codemirror_mode": {
    "name": "ipython",
    "version": 3
   },
   "file_extension": ".py",
   "mimetype": "text/x-python",
   "name": "python",
   "nbconvert_exporter": "python",
   "pygments_lexer": "ipython3",
   "version": "3.8.8"
  }
 },
 "nbformat": 4,
 "nbformat_minor": 5
}
